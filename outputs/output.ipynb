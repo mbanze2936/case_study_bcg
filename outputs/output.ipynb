{
 "cells": [
  {
   "cell_type": "code",
   "execution_count": 6,
   "metadata": {},
   "outputs": [],
   "source": [
    "from pyspark.sql import Window\n",
    "from pyspark.sql.functions import col, row_number\n",
    "import os\n",
    "\n",
    "from pyspark.sql import SparkSession\n",
    "\n",
    "import yaml\n",
    "\n",
    "spark = SparkSession.builder.appName(\"BCG_Crash_Analysis\").getOrCreate()\n",
    "primary_person_df = spark.read.csv('data/Primary_Person_use.csv', header=True)\n",
    "units_df = spark.read.csv('data/Units_use.csv', header=True)\n",
    "damages_df = spark.read.csv('data/Damages_use.csv', header=True)\n",
    "charges_df = spark.read.csv('data/Charges_use.csv', header=True)"
   ]
  },
  {
   "cell_type": "code",
   "execution_count": 7,
   "metadata": {},
   "outputs": [
    {
     "name": "stdout",
     "output_type": "stream",
     "text": [
      "Q1: Number of males death greater than 2: 0\n"
     ]
    }
   ],
   "source": [
    "from pyspark.sql import Window\n",
    "from pyspark.sql.functions import col, row_number\n",
    "\n",
    "\n",
    "def males_killed_greater_than_2(primary_person_df):\n",
    "    \"\"\"\n",
    "    A function to return the number of males killed in an accident.\n",
    "    :param primary_person_df: References the Primary_person_use.csv dataset\n",
    "    :return: Returns the row count of the dataframe.\n",
    "    \"\"\"\n",
    "    crash_df = primary_person_df.filter((col('PRSN_GNDR_ID') == 'MALE') & (col('DEATH_CNT') > 2))\n",
    "    return crash_df.count()\n",
    "    # Q1:\n",
    "cnt_death = males_killed_greater_than_2(primary_person_path)\n",
    "print(f'Q1: Number of males death greater than 2: {cnt_death}')"
   ]
  },
  {
   "cell_type": "code",
   "execution_count": 8,
   "metadata": {},
   "outputs": [
    {
     "name": "stdout",
     "output_type": "stream",
     "text": [
      "Q2: Count of two wheelers booked for crashes: 784\n"
     ]
    }
   ],
   "source": [
    "def two_wheeler_count(units_df):\n",
    "    \"\"\"\n",
    "    A function to return the number of two-wheelers involved in\\\n",
    "     the accident matching motorcycles or police motocycles.\n",
    "    :param units_df: References the Units_use.csv dataset\n",
    "    :return: Returns the count of two-wheelers.\n",
    "    \"\"\"\n",
    "    two_wheeler_df = units_df.filter(\n",
    "        (col('VEH_BODY_STYL_ID') == 'MOTORCYCLE') | (col('VEH_BODY_STYL_ID') == 'POLICE MOTORCYCLE'))\n",
    "    return two_wheeler_df.count()\n",
    "\n",
    "# Q2:\n",
    "two_wheeler_crash = two_wheeler_count(units_path)\n",
    "print(f'Q2: Count of two wheelers booked for crashes: {two_wheeler_crash}')"
   ]
  },
  {
   "cell_type": "code",
   "execution_count": 9,
   "metadata": {},
   "outputs": [
    {
     "name": "stdout",
     "output_type": "stream",
     "text": [
      "Q3: Top 5 Vehicle Makes of the cars present in the crashes in which driver died and Airbags did not deploy:\n",
      "+------------+\n",
      "| VEH_MAKE_ID|\n",
      "+------------+\n",
      "|   CHEVROLET|\n",
      "|        FORD|\n",
      "|       DODGE|\n",
      "|FREIGHTLINER|\n",
      "|      NISSAN|\n",
      "+------------+\n",
      "\n"
     ]
    }
   ],
   "source": [
    "\n",
    "def top_5_car_crash(person_df, units_df):\n",
    "    \"\"\"\n",
    "    A function to return the top 5 car models reporting deaths and air-bags not deployed.\n",
    "    :param units_df: References the Units_use.csv dataset\n",
    "    :param person_df: References the Primary_person_use.csv dataset\n",
    "    :return: Returns the names of car models.\n",
    "    \"\"\"\n",
    "    vehicle_df = (person_df.join(units_df, on='CRASH_ID', how='inner')\n",
    "                  .filter((col('PRSN_AIRBAG_ID') == 'NOT DEPLOYED')\n",
    "                          & (col('PRSN_INJRY_SEV_ID') == 'KILLED')\n",
    "                          & (col('PRSN_TYPE_ID') == 'DRIVER')\n",
    "                          & (col('VEH_MAKE_ID') != 'NA'))\n",
    "                  .groupby('VEH_MAKE_ID').count()\n",
    "                  .orderBy('count', ascending=False)\n",
    "                  .limit(5))\n",
    "\n",
    "    return vehicle_df.select(col('VEH_MAKE_ID'))\n",
    "\n",
    "# Q3:\n",
    "print(f'Q3: Top 5 Vehicle Makes of the cars present in the crashes in which driver died and Airbags did not deploy:')\n",
    "top_5_car_crash(primary_person_path, units_path).show()"
   ]
  },
  {
   "cell_type": "code",
   "execution_count": 10,
   "metadata": {},
   "outputs": [
    {
     "name": "stdout",
     "output_type": "stream",
     "text": [
      "Q4: Number of Vehicles with driver having valid licences involved in hit and run: 6359\n"
     ]
    }
   ],
   "source": [
    "def valid_driver_license_count(primary_person_df, units_df):\n",
    "    \"\"\"\n",
    "    A function to get the count of drivers with a valid driver's license involved in a hit-and-run.\n",
    "    :param primary_person_df: References the Primary_person_use.csv dataset\n",
    "    :param units_df: References the Units_use.csv dataset\n",
    "    :return: Returns the count of hit-and-run drivers.\n",
    "    \"\"\"\n",
    "    valid_license_df = (primary_person_df.join(units_df, on='CRASH_ID', how='inner')\n",
    "                        .filter(((col('DRVR_LIC_TYPE_ID') == 'DRIVER LICENSE') |\n",
    "                                 (col('DRVR_LIC_TYPE_ID') == 'COMMERCIAL DRIVER LIC.')) &\n",
    "                                (col('VEH_HNR_FL') == 'Y'))).count()\n",
    "    return valid_license_df\n",
    "\n",
    "# Q4\n",
    "licence_cnt = valid_driver_license_count(primary_person_path, units_path)\n",
    "print(f'Q4: Number of Vehicles with driver having valid licences involved in hit and run: {licence_cnt}')"
   ]
  },
  {
   "cell_type": "code",
   "execution_count": 12,
   "metadata": {},
   "outputs": [
    {
     "name": "stdout",
     "output_type": "stream",
     "text": [
      "Q5: State with the highest number of accidents in which females are not involved: \n",
      "+-----------------+\n",
      "|DRVR_LIC_STATE_ID|\n",
      "+-----------------+\n",
      "|            Texas|\n",
      "+-----------------+\n",
      "\n"
     ]
    }
   ],
   "source": [
    "def state_with_highest_accidents_no_females(primary_person_df):\n",
    "    \"\"\"\n",
    "    A function to return highest number of accidents in which females are not involved.\n",
    "    :param primary_person_df: References the Primary_person_use.csv dataset\n",
    "    :return: Returns a series for State with the highest count of accidents.\n",
    "    \"\"\"\n",
    "    non_females_df = (primary_person_df.filter(col('PRSN_GNDR_ID') != 'FEMALE')\n",
    "                      .groupby('DRVR_LIC_STATE_ID')\n",
    "                      .count().orderBy('count', ascending=False).limit(1))\n",
    "    return non_females_df.select(col('DRVR_LIC_STATE_ID'))\n",
    "\n",
    "\n",
    "\n",
    "# Q5\n",
    "print(f'Q5: State with the highest number of accidents in which females are not involved: ')\n",
    "state_with_highest_accidents_no_females(primary_person_path).show()\n",
    "\n",
    "\n",
    "\n"
   ]
  },
  {
   "cell_type": "code",
   "execution_count": 13,
   "metadata": {},
   "outputs": [
    {
     "name": "stdout",
     "output_type": "stream",
     "text": [
      "Q6: Top 3rd to 5th VEH_MAKE_IDs that contribute to a largest number of injuries including death: ('TOYOTA', 'NISSAN')\n"
     ]
    }
   ],
   "source": [
    "def vehicle_models_with_most_injurie(primary_person_df, units_df):\n",
    "    \"\"\"\n",
    "    A function to report the top 3rd to 5th vehicle models that contribute to\n",
    "     the largest number of injuries including death.\n",
    "    :param primary_person_df: References the Primary_person_use.csv dataset\n",
    "    :param units_df: References the Units_use.csv dataset\n",
    "    :return: Returns a tuple of the 3rd to 5th vehicle model names contributing to injuries and death.\n",
    "    \"\"\"\n",
    "    valid_license_df = (primary_person_df.join(units_df, on='CRASH_ID', how='inner')\n",
    "                        .filter(((col('PRSN_INJRY_SEV_ID') != 'NOT INJURED') |\n",
    "                                 (col('PRSN_INJRY_SEV_ID') != 'UNKNOWN')) &\n",
    "                                (col('VEH_MAKE_ID') != 'NA'))\n",
    "                        .groupby('VEH_MAKE_ID').count().orderBy('count', ascending=False)).collect()\n",
    "\n",
    "    return valid_license_df[2].asDict()['VEH_MAKE_ID'], valid_license_df[4].asDict()['VEH_MAKE_ID']\n",
    "\n",
    "\n",
    "# Q6\n",
    "most_injuries = vehicle_models_with_most_injurie(primary_person_path, units_path)\n",
    "print(f'Q6: Top 3rd to 5th VEH_MAKE_IDs that contribute to a '\n",
    "      f'largest number of injuries including death: {most_injuries}')"
   ]
  },
  {
   "cell_type": "code",
   "execution_count": 14,
   "metadata": {},
   "outputs": [
    {
     "name": "stdout",
     "output_type": "stream",
     "text": [
      "Q7: Top ethnic user group of each unique body style:\n",
      "+-----------------+--------------------+\n",
      "|PRSN_ETHNICITY_ID|    VEH_BODY_STYL_ID|\n",
      "+-----------------+--------------------+\n",
      "|            WHITE|           AMBULANCE|\n",
      "|         HISPANIC|                 BUS|\n",
      "|            WHITE|      FARM EQUIPMENT|\n",
      "|            WHITE|          FIRE TRUCK|\n",
      "|            WHITE|          MOTORCYCLE|\n",
      "|            WHITE|NEV-NEIGHBORHOOD ...|\n",
      "|            WHITE|PASSENGER CAR, 2-...|\n",
      "|            WHITE|PASSENGER CAR, 4-...|\n",
      "|            WHITE|              PICKUP|\n",
      "|            WHITE|    POLICE CAR/TRUCK|\n",
      "|         HISPANIC|   POLICE MOTORCYCLE|\n",
      "|            WHITE|SPORT UTILITY VEH...|\n",
      "|            WHITE|               TRUCK|\n",
      "|            WHITE|       TRUCK TRACTOR|\n",
      "|            WHITE|                 VAN|\n",
      "|            WHITE|   YELLOW SCHOOL BUS|\n",
      "+-----------------+--------------------+\n",
      "\n"
     ]
    }
   ],
   "source": [
    "def top_ethnic_group_body_style(primary_person_df, units_df):\n",
    "    \"\"\"\n",
    "    A function to return the top ethnic user group of each unique body style.\n",
    "    :param primary_person_df: References the Primary_person_use.csv dataset\n",
    "    :param units_df: References the Units_use.csv dataset\n",
    "    :return: Returns a dataframe for the top ethnic group.\n",
    "    \"\"\"\n",
    "    primary_person_df = primary_person_df.filter(~primary_person_df.PRSN_ETHNICITY_ID.isin(['UNKNOWN', 'OTHER']))\n",
    "    units_df = units_df.filter(\n",
    "        (~units_df.VEH_BODY_STYL_ID.isin(['NA', 'UNKNOWN', 'OTHER  (EXPLAIN IN NARRATIVE)', 'NOT REPORTED'])))\n",
    "\n",
    "    ethnic_group_df = primary_person_df.join(units_df, on='CRASH_ID', how='inner')\n",
    "    ethnic_group_df = (\n",
    "        ethnic_group_df.groupby('PRSN_ETHNICITY_ID', 'VEH_BODY_STYL_ID').count().orderBy('count', asceding=False)\n",
    "        .withColumn('rn',\n",
    "                    row_number().over(Window.partitionBy('VEH_BODY_STYL_ID').orderBy(col('count').desc()))).filter(\n",
    "            'rn == 1'))\n",
    "    return ethnic_group_df.select(col('PRSN_ETHNICITY_ID'), col('VEH_BODY_STYL_ID'))\n",
    "\n",
    "# Q7\n",
    "print('Q7: Top ethnic user group of each unique body style:')\n",
    "top_ethnic_group_body_style(primary_person_path, units_path).show()"
   ]
  },
  {
   "cell_type": "code",
   "execution_count": 15,
   "metadata": {},
   "outputs": [
    {
     "name": "stdout",
     "output_type": "stream",
     "text": [
      "Q8: Top 5 Zip Codes with highest number crashes with alcohols as the contributing factor to a crash:\n",
      "+--------+\n",
      "|DRVR_ZIP|\n",
      "+--------+\n",
      "|   78521|\n",
      "|   76010|\n",
      "|   79936|\n",
      "|   79938|\n",
      "|   79907|\n",
      "+--------+\n",
      "\n"
     ]
    }
   ],
   "source": [
    "\n",
    "def crash_due_to_alcohol_by_zip_code(primary_person_df):\n",
    "    \"\"\"\n",
    "    A function to return top 5 Zip Codes with the highest number crashes with alcohols.\n",
    "    :param primary_person_df:  References the Primary_person_use.csv dataset.\n",
    "    :return: Returns a dataframe with zip codes.\n",
    "    \"\"\"\n",
    "    crash_df = primary_person_df.select(col('PRSN_ALC_RSLT_ID'), col('DRVR_ZIP')).filter(col('DRVR_ZIP') != 'NULL')\n",
    "    crash_df = crash_df.filter(col('PRSN_ALC_RSLT_ID') == 'Positive').groupby('DRVR_ZIP').count().orderBy('count',\n",
    "                                                                                                          ascending=False).limit(\n",
    "        5)\n",
    "    return crash_df.select(col('DRVR_ZIP'))\n",
    "\n",
    " # Q8:\n",
    "print('Q8: Top 5 Zip Codes with highest number crashes with '\n",
    "      'alcohols as the contributing factor to a crash:')\n",
    "crash_due_to_alcohol_by_zip_code(primary_person_path).show()\n"
   ]
  },
  {
   "cell_type": "code",
   "execution_count": 16,
   "metadata": {},
   "outputs": [
    {
     "name": "stdout",
     "output_type": "stream",
     "text": [
      "Q9: Count of Distinct Crash IDs where No Damaged Property was observed and Damage Level (VEH_DMAG_SCL~) is above 4 and car avails Insurance: 8\n"
     ]
    }
   ],
   "source": [
    "def crash_id_with_no_property_damage(damages_df, units_df):\n",
    "    \"\"\"\n",
    "    A function to return Distinct Crash IDs where No Damaged Property\n",
    "    was observed and Damage Level (VEH_DMAG_SCL~) is above 4 and\n",
    "    car avails Insurance.\n",
    "    :param damages_df: References the Damages_use.csv dataset\n",
    "    :param units_df: References the Units_use.csv dataset\n",
    "    :return: Returns a dataframe listing crash IDs.\n",
    "    \"\"\"\n",
    "    property_damage_df = (damages_df.join(units_df, on='CRASH_ID', how='inner')\n",
    "                          .filter(col('FIN_RESP_TYPE_ID')\n",
    "                                  .isin(['PROOF OF LIABILITY INSURANCE', 'LIABILITY INSURANCE POLICY']))\n",
    "                          .filter(~col('VEH_DMAG_SCL_1_ID').isin(['NA', 'NO DAMAGE', 'DAMAGED 1 MINIMUM', 'DAMAGED 2',\n",
    "                                                                  'DAMAGED 3', 'DAMAGED 4', 'INVALID VALUE'])\n",
    "                                  | (~col('VEH_DMAG_SCL_2_ID').isin(\n",
    "        ['NA', 'NO DAMAGE', 'DAMAGED 1 MINIMUM', 'DAMAGED 2',\n",
    "         'DAMAGED 3', 'DAMAGED 4', 'INVALID VALUE'])))\n",
    "                          .filter(col('DAMAGED_PROPERTY') == 'NONE')\n",
    "                          .select(col('CRASH_ID')).distinct()\n",
    "                          )\n",
    "    return property_damage_df.select(col('CRASH_ID')).count()\n",
    "\n",
    "\n",
    "print(f'Q9: Count of Distinct Crash IDs where No Damaged Property was observed '\n",
    "      f'and Damage Level (VEH_DMAG_SCL~) is above 4 and car avails Insurance:'\n",
    "      f' {crash_id_with_no_property_damage(damages_path, units_path)}')"
   ]
  },
  {
   "cell_type": "code",
   "execution_count": 17,
   "metadata": {},
   "outputs": [
    {
     "name": "stdout",
     "output_type": "stream",
     "text": [
      "Q10: Top 5 Vehicle Makes where drivers are charged with speeding related offences, has licensed Drivers, used top 10 used vehicle colours and has car licensed with the Top 25 states with highest number of offences: \n",
      "+-----------+\n",
      "|VEH_MAKE_ID|\n",
      "+-----------+\n",
      "|       FORD|\n",
      "|  CHEVROLET|\n",
      "|     TOYOTA|\n",
      "|      HONDA|\n",
      "|      DODGE|\n",
      "+-----------+\n",
      "\n"
     ]
    }
   ],
   "source": [
    "def speeding_offence(primary_person_df, units_df, charges_df):\n",
    "    \"\"\"\n",
    "    A function to return Top 5 Vehicle Makes, charged with speeding related offences,\n",
    "     has licensed Drivers, used top 10 used vehicle colours\n",
    "     and has car licensed with the Top 25 states.\n",
    "    :param charges_df: References the Charges_use.csv dataset\n",
    "    :param primary_person_df: References the Primary_person_use.csv dataset\n",
    "    :param units_df: References the Units_use.csv dataset\n",
    "    :return: Returns a dataframe with top 5 vehicle models.\n",
    "    \"\"\"\n",
    "    speeding_df = charges_df.filter(col('CHARGE').contains('SPEED')).select('CRASH_ID')\n",
    "    color_df = (units_df.groupby('VEH_COLOR_ID').count().orderBy('count', ascending=False)\n",
    "                .filter(col('VEH_COLOR_ID') != 'NA').limit(10).select('VEH_COLOR_ID'))\n",
    "\n",
    "    vehicles_top_colors_df = units_df.join(color_df, 'VEH_COLOR_ID')\n",
    "\n",
    "    licensed_df = primary_person_df.filter(col('DRVR_LIC_TYPE_ID').isin(['DRIVER LICENSE', 'COMMERCIAL DRIVER LIC.']))\n",
    "\n",
    "    state_offenses_df = primary_person_df.groupBy('DRVR_LIC_STATE_ID').count().orderBy('count', ascending=False).limit(25)\n",
    "    top_25_states_list = state_offenses_df.select('DRVR_LIC_STATE_ID').rdd.flatMap(lambda x: x).collect()\n",
    "    top_25_states = (primary_person_df.filter(col('DRVR_LIC_STATE_ID').isin(top_25_states_list))\n",
    "                     .groupby('DRVR_LIC_STATE_ID').count()\n",
    "                     .orderBy('count', ascending=False).limit(25))\n",
    "\n",
    "    drivers_in_top_states_df = primary_person_df.join(top_25_states, 'DRVR_LIC_STATE_ID')\n",
    "\n",
    "    joined_df = (speeding_df.join(licensed_df, 'CRASH_ID')\n",
    "                 .join(vehicles_top_colors_df, 'CRASH_ID')\n",
    "                 .join(drivers_in_top_states_df, 'CRASH_ID'))\n",
    "\n",
    "    top_5_vehicle_models = (joined_df.groupby('VEH_MAKE_ID').count()\n",
    "                           .orderBy('count', ascending=False).limit(5))\n",
    "\n",
    "    return top_5_vehicle_models.select(col('VEH_MAKE_ID'))\n",
    "\n",
    " # Q10:\n",
    "print(f'Q10: Top 5 Vehicle Makes where drivers are charged with speeding '\n",
    "      f'related offences, has licensed Drivers, used top 10 used vehicle '\n",
    "      f'colours and has car licensed with the Top 25 states with highest number of offences: ')\n",
    "speeding_offence(primary_person_path, units_path, charges_path).show()\n"
   ]
  },
  {
   "cell_type": "code",
   "execution_count": 18,
   "metadata": {},
   "outputs": [],
   "source": [
    "spark.stop()"
   ]
  },
  {
   "cell_type": "code",
   "execution_count": null,
   "metadata": {},
   "outputs": [],
   "source": []
  }
 ],
 "metadata": {
  "kernelspec": {
   "display_name": "Python 3",
   "language": "python",
   "name": "python3"
  },
  "language_info": {
   "codemirror_mode": {
    "name": "ipython",
    "version": 3
   },
   "file_extension": ".py",
   "mimetype": "text/x-python",
   "name": "python",
   "nbconvert_exporter": "python",
   "pygments_lexer": "ipython3",
   "version": "3.8.5"
  }
 },
 "nbformat": 4,
 "nbformat_minor": 4
}
